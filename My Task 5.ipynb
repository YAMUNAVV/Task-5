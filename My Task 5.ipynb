{
 "cells": [
  {
   "cell_type": "code",
   "execution_count": 1,
   "id": "461ffe74",
   "metadata": {},
   "outputs": [],
   "source": [
    "import pandas as pd\n",
    "import numpy as np\n",
    "import matplotlib.pyplot as plt "
   ]
  },
  {
   "cell_type": "code",
   "execution_count": 2,
   "id": "55e4a1f2",
   "metadata": {},
   "outputs": [],
   "source": [
    "#The data is available as two attached CSV files:\n",
    "\n",
    "#takehome_user_engagement.csv\n",
    "#takehome_users.csv"
   ]
  },
  {
   "cell_type": "markdown",
   "id": "05b81004",
   "metadata": {},
   "source": [
    "# The data has the following two tables:"
   ]
  },
  {
   "cell_type": "markdown",
   "id": "12154490",
   "metadata": {},
   "source": [
    "# 1. User table"
   ]
  },
  {
   "cell_type": "markdown",
   "id": "92df5a63",
   "metadata": {},
   "source": [
    "#A user table (\"takehome_users\")with data on 12,000 users who signed up for the product in the last two years.   \n",
    "\n",
    "This  table  includes:\n",
    "        \n",
    "    ● name:the user's name\n",
    "    \n",
    "    ● object_id:the  user's  id\n",
    "    \n",
    "    ● email:email address\n",
    "    \n",
    "    ● creation_source:how their account was created. This takes on one of  5 values:\n",
    "    \n",
    "    ○ PERSONAL_PROJECTS:invited  to join another user's personal  workspace\n",
    "    \n",
    "    ○ GUEST_INVITE:invited to an organization as a guest(limited  permissions)\n",
    "    \n",
    "    ○ ORG_INVITE:invited to an organization(as a full member)\n",
    "    \n",
    "    ○ SIGNUP:signed up via the website\n",
    "    \n",
    "    ○ SIGNUP_GOOGLE_AUTH:signed up using Google Authentication(using a Google email account for their login id)\n",
    "    \n",
    "    ● creation_time:when they created their account\n",
    "    \n",
    "    ● last_session_creation_time:unix timestamp of last login\n",
    "    \n",
    "    ● opted_in_to_mailing_list:whether they have opted into receiving marketing  emails\n",
    "    \n",
    "    ● enabled_for_marketing_drip:whether they are on the regular marketing email drip\n",
    "    \n",
    "    ● org_id:the organization(group of users)they belong to\n",
    "    \n",
    "    ● invited_by_user_id:which user invited them  to join(if  applicable)\n"
   ]
  },
  {
   "cell_type": "code",
   "execution_count": 23,
   "id": "50e2961c",
   "metadata": {},
   "outputs": [
    {
     "data": {
      "text/html": [
       "<div>\n",
       "<style scoped>\n",
       "    .dataframe tbody tr th:only-of-type {\n",
       "        vertical-align: middle;\n",
       "    }\n",
       "\n",
       "    .dataframe tbody tr th {\n",
       "        vertical-align: top;\n",
       "    }\n",
       "\n",
       "    .dataframe thead th {\n",
       "        text-align: right;\n",
       "    }\n",
       "</style>\n",
       "<table border=\"1\" class=\"dataframe\">\n",
       "  <thead>\n",
       "    <tr style=\"text-align: right;\">\n",
       "      <th></th>\n",
       "      <th>object_id</th>\n",
       "      <th>creation_time</th>\n",
       "      <th>name</th>\n",
       "      <th>email</th>\n",
       "      <th>creation_source</th>\n",
       "      <th>last_session_creation_time</th>\n",
       "      <th>opted_in_to_mailing_list</th>\n",
       "      <th>enabled_for_marketing_drip</th>\n",
       "      <th>org_id</th>\n",
       "      <th>invited_by_user_id</th>\n",
       "    </tr>\n",
       "  </thead>\n",
       "  <tbody>\n",
       "    <tr>\n",
       "      <th>0</th>\n",
       "      <td>1</td>\n",
       "      <td>2014-04-22 03:53:30</td>\n",
       "      <td>Clausen August</td>\n",
       "      <td>AugustCClausen@yahoo.com</td>\n",
       "      <td>GUEST_INVITE</td>\n",
       "      <td>1.398139e+09</td>\n",
       "      <td>1</td>\n",
       "      <td>0</td>\n",
       "      <td>11</td>\n",
       "      <td>10803.0</td>\n",
       "    </tr>\n",
       "    <tr>\n",
       "      <th>1</th>\n",
       "      <td>2</td>\n",
       "      <td>2013-11-15 03:45:04</td>\n",
       "      <td>Poole Matthew</td>\n",
       "      <td>MatthewPoole@gustr.com</td>\n",
       "      <td>ORG_INVITE</td>\n",
       "      <td>1.396238e+09</td>\n",
       "      <td>0</td>\n",
       "      <td>0</td>\n",
       "      <td>1</td>\n",
       "      <td>316.0</td>\n",
       "    </tr>\n",
       "    <tr>\n",
       "      <th>2</th>\n",
       "      <td>3</td>\n",
       "      <td>2013-03-19 23:14:52</td>\n",
       "      <td>Bottrill Mitchell</td>\n",
       "      <td>MitchellBottrill@gustr.com</td>\n",
       "      <td>ORG_INVITE</td>\n",
       "      <td>1.363735e+09</td>\n",
       "      <td>0</td>\n",
       "      <td>0</td>\n",
       "      <td>94</td>\n",
       "      <td>1525.0</td>\n",
       "    </tr>\n",
       "    <tr>\n",
       "      <th>3</th>\n",
       "      <td>4</td>\n",
       "      <td>2013-05-21 08:09:28</td>\n",
       "      <td>Clausen Nicklas</td>\n",
       "      <td>NicklasSClausen@yahoo.com</td>\n",
       "      <td>GUEST_INVITE</td>\n",
       "      <td>1.369210e+09</td>\n",
       "      <td>0</td>\n",
       "      <td>0</td>\n",
       "      <td>1</td>\n",
       "      <td>5151.0</td>\n",
       "    </tr>\n",
       "    <tr>\n",
       "      <th>4</th>\n",
       "      <td>5</td>\n",
       "      <td>2013-01-17 10:14:20</td>\n",
       "      <td>Raw Grace</td>\n",
       "      <td>GraceRaw@yahoo.com</td>\n",
       "      <td>GUEST_INVITE</td>\n",
       "      <td>1.358850e+09</td>\n",
       "      <td>0</td>\n",
       "      <td>0</td>\n",
       "      <td>193</td>\n",
       "      <td>5240.0</td>\n",
       "    </tr>\n",
       "  </tbody>\n",
       "</table>\n",
       "</div>"
      ],
      "text/plain": [
       "   object_id        creation_time               name  \\\n",
       "0          1  2014-04-22 03:53:30     Clausen August   \n",
       "1          2  2013-11-15 03:45:04      Poole Matthew   \n",
       "2          3  2013-03-19 23:14:52  Bottrill Mitchell   \n",
       "3          4  2013-05-21 08:09:28    Clausen Nicklas   \n",
       "4          5  2013-01-17 10:14:20          Raw Grace   \n",
       "\n",
       "                        email creation_source  last_session_creation_time  \\\n",
       "0    AugustCClausen@yahoo.com    GUEST_INVITE                1.398139e+09   \n",
       "1      MatthewPoole@gustr.com      ORG_INVITE                1.396238e+09   \n",
       "2  MitchellBottrill@gustr.com      ORG_INVITE                1.363735e+09   \n",
       "3   NicklasSClausen@yahoo.com    GUEST_INVITE                1.369210e+09   \n",
       "4          GraceRaw@yahoo.com    GUEST_INVITE                1.358850e+09   \n",
       "\n",
       "   opted_in_to_mailing_list  enabled_for_marketing_drip  org_id  \\\n",
       "0                         1                           0      11   \n",
       "1                         0                           0       1   \n",
       "2                         0                           0      94   \n",
       "3                         0                           0       1   \n",
       "4                         0                           0     193   \n",
       "\n",
       "   invited_by_user_id  \n",
       "0             10803.0  \n",
       "1               316.0  \n",
       "2              1525.0  \n",
       "3              5151.0  \n",
       "4              5240.0  "
      ]
     },
     "execution_count": 23,
     "metadata": {},
     "output_type": "execute_result"
    }
   ],
   "source": [
    "x=pd.read_csv(\"takehome_user_engagement.csv\",encoding='ISO-8859-1')\n",
    "takehome_users.head()"
   ]
  },
  {
   "cell_type": "code",
   "execution_count": 24,
   "id": "8b6e71ce",
   "metadata": {},
   "outputs": [
    {
     "name": "stdout",
     "output_type": "stream",
     "text": [
      "<class 'pandas.core.frame.DataFrame'>\n",
      "RangeIndex: 12000 entries, 0 to 11999\n",
      "Data columns (total 10 columns):\n",
      " #   Column                      Non-Null Count  Dtype  \n",
      "---  ------                      --------------  -----  \n",
      " 0   object_id                   12000 non-null  int64  \n",
      " 1   creation_time               12000 non-null  object \n",
      " 2   name                        12000 non-null  object \n",
      " 3   email                       12000 non-null  object \n",
      " 4   creation_source             12000 non-null  object \n",
      " 5   last_session_creation_time  8823 non-null   float64\n",
      " 6   opted_in_to_mailing_list    12000 non-null  int64  \n",
      " 7   enabled_for_marketing_drip  12000 non-null  int64  \n",
      " 8   org_id                      12000 non-null  int64  \n",
      " 9   invited_by_user_id          6417 non-null   float64\n",
      "dtypes: float64(2), int64(4), object(4)\n",
      "memory usage: 937.6+ KB\n"
     ]
    }
   ],
   "source": [
    "takehome_users.info()"
   ]
  },
  {
   "cell_type": "markdown",
   "id": "738b03cb",
   "metadata": {},
   "source": [
    "# 2.Usage summary table"
   ]
  },
  {
   "cell_type": "code",
   "execution_count": 5,
   "id": "9e1649cb",
   "metadata": {},
   "outputs": [],
   "source": [
    "#( \"takehome_user_engagement\" ) that has a row for each day that a user logged into the product."
   ]
  },
  {
   "cell_type": "code",
   "execution_count": 25,
   "id": "29ee4c1f",
   "metadata": {},
   "outputs": [
    {
     "data": {
      "text/html": [
       "<div>\n",
       "<style scoped>\n",
       "    .dataframe tbody tr th:only-of-type {\n",
       "        vertical-align: middle;\n",
       "    }\n",
       "\n",
       "    .dataframe tbody tr th {\n",
       "        vertical-align: top;\n",
       "    }\n",
       "\n",
       "    .dataframe thead th {\n",
       "        text-align: right;\n",
       "    }\n",
       "</style>\n",
       "<table border=\"1\" class=\"dataframe\">\n",
       "  <thead>\n",
       "    <tr style=\"text-align: right;\">\n",
       "      <th></th>\n",
       "      <th>time_stamp</th>\n",
       "      <th>user_id</th>\n",
       "      <th>visited</th>\n",
       "    </tr>\n",
       "  </thead>\n",
       "  <tbody>\n",
       "    <tr>\n",
       "      <th>0</th>\n",
       "      <td>2014-04-22 03:53:30</td>\n",
       "      <td>1</td>\n",
       "      <td>1</td>\n",
       "    </tr>\n",
       "    <tr>\n",
       "      <th>1</th>\n",
       "      <td>2013-11-15 03:45:04</td>\n",
       "      <td>2</td>\n",
       "      <td>1</td>\n",
       "    </tr>\n",
       "    <tr>\n",
       "      <th>2</th>\n",
       "      <td>2013-11-29 03:45:04</td>\n",
       "      <td>2</td>\n",
       "      <td>1</td>\n",
       "    </tr>\n",
       "    <tr>\n",
       "      <th>3</th>\n",
       "      <td>2013-12-09 03:45:04</td>\n",
       "      <td>2</td>\n",
       "      <td>1</td>\n",
       "    </tr>\n",
       "    <tr>\n",
       "      <th>4</th>\n",
       "      <td>2013-12-25 03:45:04</td>\n",
       "      <td>2</td>\n",
       "      <td>1</td>\n",
       "    </tr>\n",
       "  </tbody>\n",
       "</table>\n",
       "</div>"
      ],
      "text/plain": [
       "            time_stamp  user_id  visited\n",
       "0  2014-04-22 03:53:30        1        1\n",
       "1  2013-11-15 03:45:04        2        1\n",
       "2  2013-11-29 03:45:04        2        1\n",
       "3  2013-12-09 03:45:04        2        1\n",
       "4  2013-12-25 03:45:04        2        1"
      ]
     },
     "execution_count": 25,
     "metadata": {},
     "output_type": "execute_result"
    }
   ],
   "source": [
    "y=pd.read_csv(\"takehome_users.csv\",encoding='ISO-8859-1')\n",
    "takehome_user_engagement.head()"
   ]
  },
  {
   "cell_type": "code",
   "execution_count": 26,
   "id": "6a54b040",
   "metadata": {},
   "outputs": [
    {
     "name": "stdout",
     "output_type": "stream",
     "text": [
      "<class 'pandas.core.frame.DataFrame'>\n",
      "RangeIndex: 207917 entries, 0 to 207916\n",
      "Data columns (total 3 columns):\n",
      " #   Column      Non-Null Count   Dtype \n",
      "---  ------      --------------   ----- \n",
      " 0   time_stamp  207917 non-null  object\n",
      " 1   user_id     207917 non-null  int64 \n",
      " 2   visited     207917 non-null  int64 \n",
      "dtypes: int64(2), object(1)\n",
      "memory usage: 4.8+ MB\n"
     ]
    }
   ],
   "source": [
    "takehome_user_engagement.info()"
   ]
  },
  {
   "cell_type": "code",
   "execution_count": 28,
   "id": "032f18b5",
   "metadata": {},
   "outputs": [],
   "source": [
    "df_user_eng=pd.DataFrame(x)\n",
    "df_user=pd.DataFrame(y)\n",
    "df_user = df_user.fillna(0)\n",
    "df_user1 = df_user_eng.fillna(0)"
   ]
  },
  {
   "cell_type": "code",
   "execution_count": 31,
   "id": "959b7bb7",
   "metadata": {},
   "outputs": [
    {
     "name": "stdout",
     "output_type": "stream",
     "text": [
      "                    enabled_for_marketing_drip  name  opted_in_to_mailing_list\n",
      "creation_source                                                               \n",
      "GUEST_INVITE                               319  2163                       541\n",
      "ORG_INVITE                                 644  4254                      1078\n",
      "PERSONAL_PROJECTS                          303  2111                       512\n",
      "SIGNUP                                     319  2087                       525\n",
      "SIGNUP_GOOGLE_AUTH                         207  1385                       338\n"
     ]
    },
    {
     "data": {
      "text/plain": [
       "Text(0.5, 1.0, 'creation_source comparation')"
      ]
     },
     "execution_count": 31,
     "metadata": {},
     "output_type": "execute_result"
    },
    {
     "data": {
      "image/png": "[encoded data removed]",
      "text/plain": [
       "<Figure size 432x288 with 1 Axes>"
      ]
     },
     "metadata": {
      "needs_background": "light"
     },
     "output_type": "display_data"
    }
   ],
   "source": [
    "df_p1=pd.pivot_table(df_user,index='creation_source',values=['name','opted_in_to_mailing_list','enabled_for_marketing_drip'],aggfunc={'name':'count','opted_in_to_mailing_list' :np.sum,'enabled_for_marketing_drip':np.sum})\n",
    "print(df_p1)\n",
    "df_p1.plot(kind='bar')\n",
    "plt.title(\"creation_source comparation\")"
   ]
  },
  {
   "cell_type": "code",
   "execution_count": 32,
   "id": "ac49cf19",
   "metadata": {},
   "outputs": [],
   "source": [
    "#what is creation sourse ratio?"
   ]
  },
  {
   "cell_type": "code",
   "execution_count": 33,
   "id": "bc44994a",
   "metadata": {},
   "outputs": [
    {
     "data": {
      "image/png": "[encoded data removed]",
      "text/plain": [
       "<Figure size 432x288 with 1 Axes>"
      ]
     },
     "metadata": {},
     "output_type": "display_data"
    }
   ],
   "source": [
    "pie=df_p1[\"name\"].plot(kind='pie')"
   ]
  },
  {
   "cell_type": "code",
   "execution_count": 35,
   "id": "cdd6d3e3",
   "metadata": {},
   "outputs": [
    {
     "data": {
      "text/plain": [
       "Text(0.5, 1.0, 'creation_source comparation ratio')"
      ]
     },
     "execution_count": 35,
     "metadata": {},
     "output_type": "execute_result"
    },
    {
     "data": {
      "image/png": "[encoded data removed]",
      "text/plain": [
       "<Figure size 432x288 with 1 Axes>"
      ]
     },
     "metadata": {
      "needs_background": "light"
     },
     "output_type": "display_data"
    }
   ],
   "source": [
    "df_p1['creation_source %'] = (df_p1.name / df_p1.name.sum() * 100)\n",
    "df_p1['enabled_for_marketing_drip %'] = (df_p1.enabled_for_marketing_drip / df_p1.enabled_for_marketing_drip.sum() * 100)\n",
    "df_p1['opted_in_to_mailing_list %'] = (df_p1.opted_in_to_mailing_list / df_p1.opted_in_to_mailing_list.sum() * 100)\n",
    "x=(df_p1[[\"creation_source %\",\"enabled_for_marketing_drip %\",\"opted_in_to_mailing_list %\"]])\n",
    "x.plot(kind='bar')\n",
    "plt.title(\"creation_source comparation ratio\")"
   ]
  },
  {
   "cell_type": "code",
   "execution_count": 36,
   "id": "68c7310e",
   "metadata": {},
   "outputs": [],
   "source": [
    "#what is creation sourse ratio?"
   ]
  },
  {
   "cell_type": "markdown",
   "id": "b5bf13cc",
   "metadata": {},
   "source": [
    "We see in numbers & in ratio comparation of creation source & people who opted for mail &\n",
    "markating are high in point of \"Organation invites\""
   ]
  },
  {
   "cell_type": "markdown",
   "id": "1849fc91",
   "metadata": {},
   "source": [
    "# what organization has the most users?"
   ]
  },
  {
   "cell_type": "code",
   "execution_count": 41,
   "id": "0e22f418",
   "metadata": {},
   "outputs": [
    {
     "data": {
      "text/plain": [
       "0    319\n",
       "1    233\n",
       "2    201\n",
       "3    168\n",
       "4    159\n",
       "Name: org_id, dtype: int64"
      ]
     },
     "execution_count": 41,
     "metadata": {},
     "output_type": "execute_result"
    }
   ],
   "source": [
    "df_user.org_id.value_counts().head(5)"
   ]
  },
  {
   "cell_type": "code",
   "execution_count": null,
   "id": "2990a8df",
   "metadata": {},
   "outputs": [],
   "source": []
  }
 ],
 "metadata": {
  "kernelspec": {
   "display_name": "Python 3 (ipykernel)",
   "language": "python",
   "name": "python3"
  },
  "language_info": {
   "codemirror_mode": {
    "name": "ipython",
    "version": 3
   },
   "file_extension": ".py",
   "mimetype": "text/x-python",
   "name": "python",
   "nbconvert_exporter": "python",
   "pygments_lexer": "ipython3",
   "version": "3.9.12"
  }
 },
 "nbformat": 4,
 "nbformat_minor": 5
}
